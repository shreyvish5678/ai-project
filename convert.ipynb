{
 "cells": [
  {
   "cell_type": "code",
   "execution_count": 2,
   "metadata": {},
   "outputs": [],
   "source": [
    "from pydub import AudioSegment\n",
    "audio = AudioSegment.from_file(\"segments/output_0000.mp3\")"
   ]
  },
  {
   "cell_type": "code",
   "execution_count": 2,
   "metadata": {},
   "outputs": [
    {
     "name": "stderr",
     "output_type": "stream",
     "text": [
      "100%|██████████| 999/999 [01:56<00:00,  8.60it/s]\n",
      "100%|██████████| 999/999 [01:46<00:00,  9.35it/s]\n",
      "100%|██████████| 999/999 [01:57<00:00,  8.50it/s]\n",
      "100%|██████████| 1000/1000 [01:57<00:00,  8.50it/s]\n",
      "100%|██████████| 704/704 [01:27<00:00,  8.03it/s]\n"
     ]
    }
   ],
   "source": [
    "from pydub import AudioSegment\n",
    "import os\n",
    "segment_counter = 0\n",
    "from tqdm import tqdm\n",
    "def split_audio_files(audio_files_dir, output_dir, segment_length_ms=5000):\n",
    "    global segment_counter\n",
    "    # Create output directory if it doesn't exist\n",
    "    if not os.path.exists(output_dir):\n",
    "        os.makedirs(output_dir)\n",
    "\n",
    "    # Initialize segment counter\n",
    "\n",
    "    # Process each audio file in the directory\n",
    "    for file_name in os.listdir(audio_files_dir):\n",
    "        if file_name.endswith(\".mp3\") or file_name.endswith(\".wav\"):\n",
    "            # Load audio file\n",
    "            audio = AudioSegment.from_file(os.path.join(audio_files_dir, file_name))\n",
    "\n",
    "            # Calculate number of segments\n",
    "            num_segments = len(audio) // segment_length_ms\n",
    "\n",
    "            # Split audio into segments\n",
    "            for i in tqdm(range(num_segments)):\n",
    "                start_time = i * segment_length_ms\n",
    "                end_time = (i + 1) * segment_length_ms\n",
    "                segment = audio[start_time:end_time]\n",
    "                # Save segment with sequential naming\n",
    "                segment.export(os.path.join(output_dir, f\"{segment_counter:04d}.mp3\"), format=\"mp3\")\n",
    "                segment_counter += 1\n",
    "\n",
    "            # Remove leftovers\n",
    "            leftover = len(audio) % segment_length_ms\n",
    "            if leftover != 0:\n",
    "                start_time = num_segments * segment_length_ms\n",
    "                end_time = len(audio)\n",
    "                leftover_segment = audio[start_time:end_time]\n",
    "                # Save leftover segment\n",
    "                segment.export(os.path.join(output_dir, f\"{segment_counter:04d}.mp3\"), format=\"mp3\")\n",
    "                segment_counter += 1\n",
    "\n",
    "# Example usage\n",
    "audio_files_dir = \"segments\"\n",
    "output_dir = \"output_segments\"\n",
    "split_audio_files(audio_files_dir, output_dir)"
   ]
  }
 ],
 "metadata": {
  "kernelspec": {
   "display_name": "Python 3",
   "language": "python",
   "name": "python3"
  },
  "language_info": {
   "codemirror_mode": {
    "name": "ipython",
    "version": 3
   },
   "file_extension": ".py",
   "mimetype": "text/x-python",
   "name": "python",
   "nbconvert_exporter": "python",
   "pygments_lexer": "ipython3",
   "version": "3.11.5"
  }
 },
 "nbformat": 4,
 "nbformat_minor": 2
}
