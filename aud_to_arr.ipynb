{
 "cells": [
  {
   "cell_type": "code",
   "execution_count": 1,
   "metadata": {},
   "outputs": [],
   "source": [
    "from tqdm import tqdm\n",
    "import numpy as np\n",
    "import os\n",
    "import librosa\n",
    "import mel"
   ]
  },
  {
   "cell_type": "code",
   "execution_count": 2,
   "metadata": {},
   "outputs": [
    {
     "name": "stderr",
     "output_type": "stream",
     "text": [
      "100%|██████████| 4706/4706 [02:20<00:00, 33.44it/s]\n"
     ]
    }
   ],
   "source": [
    "direc = os.listdir(\"output_segments\")\n",
    "ye = mel.Mel(x_res=256, y_res=256, sample_rate=22050)\n",
    "db = np.empty((len(direc), 65536), dtype=np.float32)\n",
    "for i, file in tqdm(enumerate(direc), total=len(direc)):\n",
    "    ye.load_audio(\"output_segments/\" + file)\n",
    "    y = ye.audio_slice_to_vector(slice=0)\n",
    "    db[i] = y / 127.5 - 1"
   ]
  },
  {
   "cell_type": "code",
   "execution_count": 3,
   "metadata": {},
   "outputs": [],
   "source": [
    "np.save(\"mormed_songs.npy\", db)"
   ]
  }
 ],
 "metadata": {
  "kernelspec": {
   "display_name": "Python 3",
   "language": "python",
   "name": "python3"
  },
  "language_info": {
   "codemirror_mode": {
    "name": "ipython",
    "version": 3
   },
   "file_extension": ".py",
   "mimetype": "text/x-python",
   "name": "python",
   "nbconvert_exporter": "python",
   "pygments_lexer": "ipython3",
   "version": "3.11.5"
  }
 },
 "nbformat": 4,
 "nbformat_minor": 2
}
